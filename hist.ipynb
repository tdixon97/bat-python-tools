{
 "cells": [
  {
   "cell_type": "markdown",
   "metadata": {},
   "source": [
    "### Notes on `hist` package\n",
    "Author: Toby Dixon (toby.dixon.23@ucl.ac.uk)\n",
    "\n",
    "This notebook contains a bunch of useful information and examples for the hist package I wanted to keep track of. Most of the information is in the form of a conversion from ROOT --> hist"
   ]
  },
  {
   "cell_type": "code",
   "execution_count": 5,
   "metadata": {},
   "outputs": [],
   "source": [
    "import re\n",
    "import pandas as pd\n",
    "import uproot\n",
    "import copy\n",
    "import hist\n",
    "import math\n",
    "from legend_plot_style import LEGENDPlotStyle as lps\n",
    "from datetime import datetime, timezone\n",
    "from scipy.stats import poisson\n",
    "from scipy.stats import norm\n",
    "lps.use('legend')\n",
    "import matplotlib.pyplot as plt\n",
    "import numpy as np\n",
    "import tol_colors as tc\n",
    "from hist import Hist\n",
    "import json\n",
    "from legendmeta import LegendMetadata\n",
    "import warnings\n",
    "from iminuit import Minuit, cost\n",
    "from scipy.stats import expon\n",
    "from scipy.stats import truncnorm\n",
    "from matplotlib.backends.backend_pdf import PdfPages\n",
    "from numba import jit\n",
    "import utils"
   ]
  },
  {
   "cell_type": "markdown",
   "metadata": {},
   "source": [
    "#### Creating a hist object\n",
    "First we make an empty hist with 10 bins from 0 to 10. There are a bunch of methods to extract the information.\n",
    "1. `values,bins = histo.to_numpy()` : Gets the bin contents and lower bin edges (plus the last upper edge), equivalently you can call `histo.values()` and `histo.axes.edges[0]`, the overflow bins are not included!\n",
    "2. `histo.axes.centers[0]`: Get the bin centers\n",
    "3. `histo.size` gives the total size including the two overflow bins"
   ]
  },
  {
   "cell_type": "code",
   "execution_count": 6,
   "metadata": {},
   "outputs": [
    {
     "name": "stdout",
     "output_type": "stream",
     "text": [
      "              ┌──────────────────────────────────────────────────────────────┐\n",
      "[-inf,   0) 0 │                                                              │\n",
      "[   0,   1) 0 │                                                              │\n",
      "[   1,   2) 0 │                                                              │\n",
      "[   2,   3) 0 │                                                              │\n",
      "[   3,   4) 0 │                                                              │\n",
      "[   4,   5) 0 │                                                              │\n",
      "[   5,   6) 0 │                                                              │\n",
      "[   6,   7) 0 │                                                              │\n",
      "[   7,   8) 0 │                                                              │\n",
      "[   8,   9) 0 │                                                              │\n",
      "[   9,  10) 0 │                                                              │\n",
      "[  10, inf) 0 │                                                              │\n",
      "              └──────────────────────────────────────────────────────────────┘\n",
      "Values = [0. 0. 0. 0. 0. 0. 0. 0. 0. 0.] (size = 10)\n",
      "bins = [ 0.  1.  2.  3.  4.  5.  6.  7.  8.  9. 10.]   (size = 11)\n",
      "bin edges = [ 0.  1.  2.  3.  4.  5.  6.  7.  8.  9. 10.] (size = 11)\n",
      "size = 12\n",
      "Centers = [0.5 1.5 2.5 3.5 4.5 5.5 6.5 7.5 8.5 9.5] (size  = 10)\n",
      "Width =  [1. 1. 1. 1. 1. 1. 1. 1. 1. 1.] (size = 10)\n"
     ]
    }
   ],
   "source": [
    "histo =( Hist.new.Reg(10, 0, 10).Double())\n",
    "print(histo)\n",
    "\n",
    "## you can easily extract the data to numpy array\n",
    "values,bins=histo.to_numpy()\n",
    "\n",
    "print(\"Values = {} (size = {})\".format(values,len(values)))\n",
    "print(\"bins = {}   (size = {})\".format(bins,len(bins)))\n",
    "\n",
    "## alternatively you can get the values with hist.values() and the bin edges with:\n",
    "\n",
    "edges = histo.axes.edges[0]\n",
    "print(\"bin edges = {} (size = {})\".format(edges,len(edges)))\n",
    "print(\"size = {}\".format(histo.size))\n",
    "## to get the bin centers and widths\n",
    "\n",
    "centers = histo.axes.centers[0]\n",
    "widths= np.diff(histo.axes.edges[0])\n",
    "print(\"Centers = {} (size  = {})\".format(centers,len(centers)))\n",
    "print(\"Width =  {} (size = {})\".format(widths,len(widths)))\n"
   ]
  },
  {
   "cell_type": "markdown",
   "metadata": {},
   "source": [
    "In the hist object the values is an array of length number of bins, the overflow bins are not included. The edges is one longer, these always refer to the lower bin edge.  "
   ]
  },
  {
   "cell_type": "markdown",
   "metadata": {},
   "source": [
    "#### Setting some bin contents\n",
    "You can set the bin content in some different ways:\n",
    "1. `hist[i]=a`\n",
    "2. `hist[2j]=a`\n",
    "For the first method its important to note that bin [0] is the first main histo bin, doesnt include overflow\n",
    "Here the complex number means to find the bin containing 2."
   ]
  },
  {
   "cell_type": "code",
   "execution_count": 7,
   "metadata": {},
   "outputs": [
    {
     "name": "stdout",
     "output_type": "stream",
     "text": [
      "               ┌─────────────────────────────────────────────────────────────┐\n",
      "[-inf,   0) 0  │                                                             │\n",
      "[   0,   1) 0  │                                                             │\n",
      "[   1,   2) 0  │                                                             │\n",
      "[   2,   3) 0  │                                                             │\n",
      "[   3,   4) 0  │                                                             │\n",
      "[   4,   5) 10 │████████████████████████████████████████                     │\n",
      "[   5,   6) 15 │████████████████████████████████████████████████████████████ │\n",
      "[   6,   7) 0  │                                                             │\n",
      "[   7,   8) 0  │                                                             │\n",
      "[   8,   9) 0  │                                                             │\n",
      "[   9,  10) 0  │                                                             │\n",
      "[  10, inf) 0  │                                                             │\n",
      "               └─────────────────────────────────────────────────────────────┘\n"
     ]
    }
   ],
   "source": [
    "## lets set bin 4 (the 5th bin of the one from 4-5) to 10 and the bin containing 5.2 (5-6) to 15\n",
    "histo[4]=10\n",
    "histo[5.2j]=15\n",
    "\n",
    "print(histo)"
   ]
  },
  {
   "cell_type": "markdown",
   "metadata": {},
   "source": [
    "#### Rebinning\n",
    "You can rebin the histogram with a type of slicing. You simply do:\n",
    "`hist_rebin=histo[hist.rebin(N)]`\n",
    "If you try to rebin by a factor not dividing the number of bins some of the end of the histogram will be moved into overflow."
   ]
  },
  {
   "cell_type": "code",
   "execution_count": 8,
   "metadata": {},
   "outputs": [
    {
     "name": "stdout",
     "output_type": "stream",
     "text": [
      "1 keV =  \n",
      " \n",
      "                 ┌─────────────────────────────────────────────────────────────┐\n",
      "[-inf,   0) 0  │                                                             │\n",
      "[   0,   1) 0  │                                                             │\n",
      "[   1,   2) 0  │                                                             │\n",
      "[   2,   3) 0  │                                                             │\n",
      "[   3,   4) 0  │                                                             │\n",
      "[   4,   5) 10 │████████████████████████████████████████                     │\n",
      "[   5,   6) 15 │████████████████████████████████████████████████████████████ │\n",
      "[   6,   7) 0  │                                                             │\n",
      "[   7,   8) 0  │                                                             │\n",
      "[   8,   9) 0  │                                                             │\n",
      "[   9,  10) 0  │                                                             │\n",
      "[  10, inf) 0  │                                                             │\n",
      "               └─────────────────────────────────────────────────────────────┘\n",
      "2 keV = \n",
      " \n",
      "                 ┌─────────────────────────────────────────────────────────────┐\n",
      "[-inf,   0) 0  │                                                             │\n",
      "[   0,   2) 0  │                                                             │\n",
      "[   2,   4) 0  │                                                             │\n",
      "[   4,   6) 25 │████████████████████████████████████████████████████████████ │\n",
      "[   6,   8) 0  │                                                             │\n",
      "[   8,  10) 0  │                                                             │\n",
      "[  10, inf) 0  │                                                             │\n",
      "               └─────────────────────────────────────────────────────────────┘\n",
      "3 keV = \n",
      " \n",
      "                 ┌─────────────────────────────────────────────────────────────┐\n",
      "[-inf,   0) 0  │                                                             │\n",
      "[   0,   3) 0  │                                                             │\n",
      "[   3,   6) 25 │████████████████████████████████████████████████████████████ │\n",
      "[   6,   9) 0  │                                                             │\n",
      "[   9, inf) 0  │                                                             │\n",
      "               └─────────────────────────────────────────────────────────────┘\n"
     ]
    }
   ],
   "source": [
    "print(\"1 keV =  \\n \\n \",histo)\n",
    "print(\"2 keV = \\n \\n \",histo[hist.rebin(2)])\n",
    "print(\"3 keV = \\n \\n \",histo[hist.rebin(3)])\n",
    "\n"
   ]
  },
  {
   "cell_type": "markdown",
   "metadata": {},
   "source": [
    "##### Variable binning / rebinning\n",
    "So far I did'nt find a great solution for variable binning / rebinning, here is my hack"
   ]
  },
  {
   "cell_type": "code",
   "execution_count": 29,
   "metadata": {},
   "outputs": [
    {
     "name": "stdout",
     "output_type": "stream",
     "text": [
      "                  ┌──────────────────────────────────────────────────────────┐\n",
      "[-inf,   0) 0     │                                                          │\n",
      "[   0,   1) 0     │                                                          │\n",
      "[   1,   2) 0     │                                                          │\n",
      "[   2,   3) 0     │                                                          │\n",
      "[   3,   4) 0     │                                                          │\n",
      "[   4,   5) 50.53 │██████████████████████████████████████                    │\n",
      "[   5,   6) 75.8  │█████████████████████████████████████████████████████████ │\n",
      "[   6,   7) 0     │                                                          │\n",
      "[   7,   8) 0     │                                                          │\n",
      "[   8,   9) 0     │                                                          │\n",
      "[   9,  10) 0     │                                                          │\n",
      "[  10, inf) 0     │                                                          │\n",
      "                  └──────────────────────────────────────────────────────────┘\n",
      "              ┌──────────────────────────────────────────────────────────────┐\n",
      "[-inf,   0) 0 │                                                              │\n",
      "[   0,   4) 0 │                                                              │\n",
      "[   4,   6) 0 │                                                              │\n",
      "[   6,   7) 0 │                                                              │\n",
      "[   7,   9) 0 │                                                              │\n",
      "[   9,  10) 0 │                                                              │\n",
      "[  10, inf) 0 │                                                              │\n",
      "              └──────────────────────────────────────────────────────────────┘\n"
     ]
    }
   ],
   "source": [
    "### create the variable binned histo\n",
    "print(histo)\n",
    "edges = [0,4,6,7,9,10]\n",
    "histo_var =( Hist.new.Variable(edges).Double())\n",
    "for i in range(histo.size-2):\n",
    "    cent = histo.axes.centers[0][i]\n",
    " \n",
    "    histo_var[cent*1j]+=histo.values()[i]\n"
   ]
  },
  {
   "cell_type": "code",
   "execution_count": 27,
   "metadata": {},
   "outputs": [
    {
     "name": "stdout",
     "output_type": "stream",
     "text": [
      "                  ┌──────────────────────────────────────────────────────────┐\n",
      "[-inf,   0) 0     │                                                          │\n",
      "[   0,   4) 0     │                                                          │\n",
      "[   4,   6) 126.3 │█████████████████████████████████████████████████████████ │\n",
      "[   6,   7) 0     │                                                          │\n",
      "[   7,   9) 0     │                                                          │\n",
      "[   9,  10) 0     │                                                          │\n",
      "[  10, inf) 0     │                                                          │\n",
      "                  └──────────────────────────────────────────────────────────┘\n"
     ]
    }
   ],
   "source": [
    "print(histo_var)"
   ]
  },
  {
   "cell_type": "markdown",
   "metadata": {},
   "source": [
    "#### Scaling\n",
    "Seems you should loop over the values (could be slow)"
   ]
  },
  {
   "cell_type": "code",
   "execution_count": 10,
   "metadata": {},
   "outputs": [
    {
     "name": "stdout",
     "output_type": "stream",
     "text": [
      "               ┌─────────────────────────────────────────────────────────────┐\n",
      "[-inf,   0) 0  │                                                             │\n",
      "[   0,   1) 0  │                                                             │\n",
      "[   1,   2) 0  │                                                             │\n",
      "[   2,   3) 0  │                                                             │\n",
      "[   3,   4) 0  │                                                             │\n",
      "[   4,   5) 10 │████████████████████████████████████████                     │\n",
      "[   5,   6) 15 │████████████████████████████████████████████████████████████ │\n",
      "[   6,   7) 0  │                                                             │\n",
      "[   7,   8) 0  │                                                             │\n",
      "[   8,   9) 0  │                                                             │\n",
      "[   9,  10) 0  │                                                             │\n",
      "[  10, inf) 0  │                                                             │\n",
      "               └─────────────────────────────────────────────────────────────┘\n",
      "                  ┌──────────────────────────────────────────────────────────┐\n",
      "[-inf,   0) 0     │                                                          │\n",
      "[   0,   1) 0     │                                                          │\n",
      "[   1,   2) 0     │                                                          │\n",
      "[   2,   3) 0     │                                                          │\n",
      "[   3,   4) 0     │                                                          │\n",
      "[   4,   5) 50.53 │██████████████████████████████████████                    │\n",
      "[   5,   6) 75.8  │█████████████████████████████████████████████████████████ │\n",
      "[   6,   7) 0     │                                                          │\n",
      "[   7,   8) 0     │                                                          │\n",
      "[   8,   9) 0     │                                                          │\n",
      "[   9,  10) 0     │                                                          │\n",
      "[  10, inf) 0     │                                                          │\n",
      "                  └──────────────────────────────────────────────────────────┘\n"
     ]
    }
   ],
   "source": [
    "scale=5.053\n",
    "print(histo)\n",
    "for i in range(histo.size-2):\n",
    "    histo[i]*=scale\n",
    "print(histo)"
   ]
  },
  {
   "cell_type": "markdown",
   "metadata": {},
   "source": [
    "#### Plotting"
   ]
  },
  {
   "cell_type": "code",
   "execution_count": 11,
   "metadata": {},
   "outputs": [
    {
     "data": {
      "text/plain": [
       "Text(0, 0.5, 'counts')"
      ]
     },
     "execution_count": 11,
     "metadata": {},
     "output_type": "execute_result"
    },
    {
     "data": {
      "image/png": "[encoded data removed]",
      "text/plain": [
       "<Figure size 600x600 with 1 Axes>"
      ]
     },
     "metadata": {},
     "output_type": "display_data"
    }
   ],
   "source": [
    "## can plot quite simply\n",
    "\n",
    "style = {\n",
    "    \"yerr\": False,\n",
    "    \"flow\": None,\n",
    "    \"lw\": 0.8,\n",
    "}\n",
    "\n",
    "fig, ax = lps.subplots(1, 1, figsize=(2,2), sharex=True, gridspec_kw = {'hspace': 0})\n",
    "\n",
    "histo.plot(ax=ax, **style,color=\"blue\",histtype=\"fill\")\n",
    "ax.set_xlabel(\"Energy [arb]\")\n",
    "ax.set_ylabel(\"counts\")"
   ]
  },
  {
   "cell_type": "markdown",
   "metadata": {},
   "source": [
    "#### 2D histograms\n",
    "We can make a 2D histogram"
   ]
  },
  {
   "cell_type": "code",
   "execution_count": 12,
   "metadata": {},
   "outputs": [
    {
     "name": "stdout",
     "output_type": "stream",
     "text": [
      "Hist(\n",
      "  Regular(10, 0, 10, label='Axis 0'),\n",
      "  Regular(10, 0, 10, label='Axis 1'),\n",
      "  storage=Double())\n"
     ]
    }
   ],
   "source": [
    "histo_2D =( Hist.new.Regular(10, 0, 10).Regular(10, 0, 10)).Double()\n",
    "print(histo_2D)\n"
   ]
  },
  {
   "cell_type": "code",
   "execution_count": 13,
   "metadata": {},
   "outputs": [
    {
     "data": {
      "text/plain": [
       "Text(0, 0.5, 'counts')"
      ]
     },
     "execution_count": 13,
     "metadata": {},
     "output_type": "execute_result"
    },
    {
     "data": {
      "image/png": "[encoded data removed]",
      "text/plain": [
       "<Figure size 600x600 with 2 Axes>"
      ]
     },
     "metadata": {},
     "output_type": "display_data"
    }
   ],
   "source": [
    "### set the values as (first index is x second y)\n",
    "histo_2D[0,0]=10\n",
    "histo_2D[3,5]=4\n",
    "histo_2D[2,8]=5\n",
    "histo_2D[8,8]=3\n",
    "fig, ax = lps.subplots(1, 1, figsize=(2,2), sharex=True, gridspec_kw = {'hspace': 0})\n",
    "\n",
    "histo_2D.plot(ax=ax)\n",
    "ax.set_xlabel(\"Energy [arb]\")\n",
    "ax.set_ylabel(\"counts\")"
   ]
  },
  {
   "cell_type": "code",
   "execution_count": 14,
   "metadata": {},
   "outputs": [
    {
     "name": "stdout",
     "output_type": "stream",
     "text": [
      "weights = \n",
      " [[10.  0.  0.  0.  0.  0.  0.  0.  0.  0.]\n",
      " [ 0.  0.  0.  0.  0.  0.  0.  0.  0.  0.]\n",
      " [ 0.  0.  0.  0.  0.  0.  0.  0.  5.  0.]\n",
      " [ 0.  0.  0.  0.  0.  4.  0.  0.  0.  0.]\n",
      " [ 0.  0.  0.  0.  0.  0.  0.  0.  0.  0.]\n",
      " [ 0.  0.  0.  0.  0.  0.  0.  0.  0.  0.]\n",
      " [ 0.  0.  0.  0.  0.  0.  0.  0.  0.  0.]\n",
      " [ 0.  0.  0.  0.  0.  0.  0.  0.  0.  0.]\n",
      " [ 0.  0.  0.  0.  0.  0.  0.  0.  3.  0.]\n",
      " [ 0.  0.  0.  0.  0.  0.  0.  0.  0.  0.]] \n",
      " (shape = (10, 10))\n",
      "x = [ 0.  1.  2.  3.  4.  5.  6.  7.  8.  9. 10.] (shape = 11)\n"
     ]
    }
   ],
   "source": [
    "w,x,y= histo_2D.to_numpy()\n",
    "print(\"weights = \\n {} \\n (shape = {})\".format(w,np.shape(w)))\n",
    "print(\"x = {} (shape = {})\".format(x,len(x)))"
   ]
  },
  {
   "cell_type": "markdown",
   "metadata": {},
   "source": [
    "#### summed projection\n"
   ]
  },
  {
   "cell_type": "code",
   "execution_count": 15,
   "metadata": {},
   "outputs": [
    {
     "name": "stdout",
     "output_type": "stream",
     "text": [
      "                ┌────────────────────────────────────────────────────────────┐\n",
      "[-inf,   0) 0   │                                                            │\n",
      "[   0,   1) 5   │███████████████████████████████████████████████████████████ │\n",
      "[   1,   2) 5   │███████████████████████████████████████████████████████████ │\n",
      "[   2,   3) 0   │                                                            │\n",
      "[   3,   4) 0   │                                                            │\n",
      "[   4,   5) 0   │                                                            │\n",
      "[   5,   6) 0   │                                                            │\n",
      "[   6,   7) 0   │                                                            │\n",
      "[   7,   8) 0   │                                                            │\n",
      "[   8,   9) 2   │███████████████████████▋                                    │\n",
      "[   9,  10) 2   │███████████████████████▋                                    │\n",
      "[  10,  11) 2.5 │█████████████████████████████▌                              │\n",
      "[  11,  12) 2.5 │█████████████████████████████▌                              │\n",
      "[  12,  13) 0   │                                                            │\n",
      "[  13,  14) 0   │                                                            │\n",
      "[  14,  15) 0   │                                                            │\n",
      "[  15,  16) 0   │                                                            │\n",
      "[  16,  17) 1.5 │█████████████████▊                                          │\n",
      "[  17,  18) 1.5 │█████████████████▊                                          │\n",
      "[  18,  19) 0   │                                                            │\n",
      "[  19,  20) 0   │                                                            │\n",
      "[  20, inf) 0   │                                                            │\n",
      "                └────────────────────────────────────────────────────────────┘\n"
     ]
    }
   ],
   "source": [
    "\n",
    "sum_project= utils.project_sum(histo_2D)\n",
    "print(sum_project)"
   ]
  },
  {
   "cell_type": "code",
   "execution_count": null,
   "metadata": {},
   "outputs": [],
   "source": []
  }
 ],
 "metadata": {
  "kernelspec": {
   "display_name": "base",
   "language": "python",
   "name": "python3"
  },
  "language_info": {
   "codemirror_mode": {
    "name": "ipython",
    "version": 3
   },
   "file_extension": ".py",
   "mimetype": "text/x-python",
   "name": "python",
   "nbconvert_exporter": "python",
   "pygments_lexer": "ipython3",
   "version": "3.10.12"
  }
 },
 "nbformat": 4,
 "nbformat_minor": 2
}
